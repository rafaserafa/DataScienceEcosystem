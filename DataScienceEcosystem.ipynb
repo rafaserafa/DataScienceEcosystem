{
 "cells": [
  {
   "cell_type": "markdown",
   "metadata": {},
   "source": [
    "<center>\n",
    "    <img src=\"https://cf-courses-data.s3.us.cloud-object-storage.appdomain.cloud/IBMDeveloperSkillsNetwork-DS0105EN-SkillsNetwork/labs/Module2/images/SN_web_lightmode.png\" width=\"300\" alt=\"cognitiveclass.ai logo\">\n",
    "</center>\n"
   ]
  },
  {
   "cell_type": "markdown",
   "metadata": {},
   "source": [
    "#### Add your code below following the instructions given in the course\n"
   ]
  },
  {
   "cell_type": "markdown",
   "metadata": {
    "tags": []
   },
   "source": [
    "# Data Science Tools and Ecosystem"
   ]
  },
  {
   "cell_type": "markdown",
   "metadata": {
    "tags": []
   },
   "source": [
    "## In this task, the tools learned throughout the course will be used and will be evaluated by course colleagues."
   ]
  },
  {
   "cell_type": "markdown",
   "metadata": {},
   "source": [
    "## In this cell are the main data science languages\n",
    "\n",
    "- Python\n",
    "- R\n",
    "- SQL\n",
    "- Java\n",
    "- Scala\n",
    "- MATLAB\n",
    "- Julia"
   ]
  },
  {
   "cell_type": "markdown",
   "metadata": {},
   "source": [
    "## In this cell are the main data science libraries.\n",
    "\n",
    "\n",
    "    1 - NumPy: A library for working with arrays and matrices in Python, and a foundation for many other data science libraries.\n",
    "\n",
    "    2 - Pandas: A library for working with structured data, providing powerful tools for data cleaning, manipulation, and analysis.\n",
    "\n",
    "    3 - Matplotlib: A plotting library for creating static, animated, and interactive visualizations in Python.\n",
    "\n",
    "    4 - Seaborn: A library for creating informative and attractive statistical graphics in Python.\n",
    "\n",
    "    5 - Scikit-learn: A machine learning library for building predictive models, with tools for classification, regression, clustering, and more.\n",
    "\n",
    "    6 - TensorFlow: A library for building and training deep learning models, with support for high-level APIs and low-level customizations.\n",
    "\n",
    "    7 - PyTorch: Another deep learning library that emphasizes flexibility and ease of use, with a dynamic computational graph and a strong focus on GPU acceleration.\n",
    "\n",
    "    8 - Keras: A high-level deep learning library built on top of TensorFlow, with a simple and intuitive API for building and training models.\n",
    "\n",
    "    9 - Statsmodels: A library for statistical modeling and inference, with support for regression analysis, time series analysis, and more.\n",
    "\n",
    "    10 - NetworkX: A library for working with graphs and networks, with tools for graph analysis, visualization, and modeling."
   ]
  },
  {
   "cell_type": "markdown",
   "metadata": {},
   "source": [
    "## Data Science Tools\n",
    "\n",
    "| Tool       | Description                                                                                                                                                                                |\n",
    "|------------|--------------------------------------------------------------------------------------------------------------------------------------------------------------------------------------------|\n",
    "| NumPy      | A library for working with arrays and matrices in Python, and a foundation for many other data science libraries.                                                                          |\n",
    "| Pandas     | A library for working with structured data, providing powerful tools for data cleaning, manipulation, and analysis.                                                                        |\n",
    "| Matplotlib | A plotting library for creating static, animated, and interactive visualizations in Python.                                                                                                 |\n",
    "\n",
    "\n",
    "\n"
   ]
  },
  {
   "cell_type": "markdown",
   "metadata": {},
   "source": [
    "###  Below are a few examples of evaluating arithmetic expressions in Python\n",
    "\n",
    "# Simple addition\n",
    "result_1 = 5 + 3\n",
    "print(\"5 + 3 =\", result_1)  # Output: 8\n",
    "\n",
    "# Multiplication\n",
    "result_2 = 7 * 4\n",
    "print(\"7 * 4 =\", result_2)  # Output: 28\n",
    "\n",
    "# Division\n",
    "result_3 = 10 / 2\n",
    "print(\"10 / 2 =\", result_3)  # Output: 5.0\n",
    "\n",
    "# Complex expression\n",
    "result_4 = (4 + 5) * 3\n",
    "print(\"(4 + 5) * 3 =\", result_4)  # Output: 27\n",
    "\n",
    "# More complex expression\n",
    "result_5 = 9 - 2 * (7 / 3)\n",
    "print(\"9 - 2 * (7 / 3) =\", result_5)  # Output: 2.0099999999999998\n"
   ]
  },
  {
   "cell_type": "code",
   "execution_count": 5,
   "metadata": {},
   "outputs": [
    {
     "name": "stdout",
     "output_type": "stream",
     "text": [
      "Multiplication result: 17\n"
     ]
    }
   ],
   "source": [
    "# Multiplication and addition\n",
    "num_1 = 3\n",
    "num_2 = 4\n",
    "num_3 = 5\n",
    "\n",
    "# This a simple arithmetic expression to mutiply then add integers\n",
    "\n",
    "result_mult = num_1 * num_2 + num_3\n",
    "print(\"Multiplication result:\", result_mult)\n",
    "\n"
   ]
  },
  {
   "cell_type": "code",
   "execution_count": 8,
   "metadata": {},
   "outputs": [
    {
     "name": "stdout",
     "output_type": "stream",
     "text": [
      "135 minutes is equal to 3.3333333333333335 hours.\n"
     ]
    }
   ],
   "source": [
    "# Conversion of minutes to hours\n",
    "minutes = 200\n",
    "\n",
    "# This will convert 200 minutes to hours by diving by 60\n",
    "hours = minutes / 60\n",
    "\n",
    "# Print the result\n",
    "print(\"135 minutes is equal to\", hours, \"hours.\")\n"
   ]
  },
  {
   "cell_type": "markdown",
   "metadata": {},
   "source": [
    "## In this cell will show a list of goals.\n",
    "\n",
    "    1 - Define your goal: Determine what you want to achieve and what you hope to learn or accomplish.\n",
    "\n",
    "    2 - Identify your resources: Determine what tools, data, and expertise you will need to accomplish your goal.\n",
    "\n",
    "    3 - Plan your approach: Develop a plan of action that outlines the steps you will take to achieve your goal.\n",
    "\n",
    "    4 - Acquire knowledge and skills: Learn the necessary concepts, techniques, and skills required to execute your plan.\n",
    "\n",
    "    5 - Apply your knowledge and skills: Put your knowledge and skills into practice by executing your plan.\n",
    "\n",
    "   "
   ]
  },
  {
   "cell_type": "markdown",
   "metadata": {},
   "source": [
    "## Author: Rafael Serafim"
   ]
  },
  {
   "cell_type": "code",
   "execution_count": null,
   "metadata": {},
   "outputs": [],
   "source": []
  },
  {
   "cell_type": "code",
   "execution_count": null,
   "metadata": {},
   "outputs": [],
   "source": []
  }
 ],
 "metadata": {
  "kernelspec": {
   "display_name": "Python",
   "language": "python",
   "name": "conda-env-python-py"
  },
  "language_info": {
   "codemirror_mode": {
    "name": "ipython",
    "version": 3
   },
   "file_extension": ".py",
   "mimetype": "text/x-python",
   "name": "python",
   "nbconvert_exporter": "python",
   "pygments_lexer": "ipython3",
   "version": "3.7.12"
  }
 },
 "nbformat": 4,
 "nbformat_minor": 4
}
